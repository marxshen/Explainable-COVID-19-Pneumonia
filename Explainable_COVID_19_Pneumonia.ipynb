{
  "nbformat": 4,
  "nbformat_minor": 0,
  "metadata": {
    "colab": {
      "name": "Explainable COVID-19 Pneumonia.ipynb",
      "provenance": [],
      "collapsed_sections": [],
      "machine_shape": "hm"
    },
    "kernelspec": {
      "name": "python3",
      "display_name": "Python 3"
    },
    "accelerator": "GPU"
  },
  "cells": [
    {
      "cell_type": "code",
      "metadata": {
        "id": "A3H8ZGZxcfMk",
        "colab_type": "code",
        "colab": {}
      },
      "source": [
        "from google.colab import drive\n",
        "drive.mount('/gdrive')\n",
        "\n",
        "# Set up a Kaggle environment to download a Kaggle dataset (Only need to do it for the first time)\n",
        "# !pip uninstall kaggle\n",
        "# !pip install --upgrade pip\n",
        "# !pip install kaggle\n",
        "# %cp /gdrive/'My Drive'/kaggle.json ~/.kaggle/"
      ],
      "execution_count": 0,
      "outputs": []
    },
    {
      "cell_type": "code",
      "metadata": {
        "id": "Ctqs5_YMMH7Z",
        "colab_type": "code",
        "colab": {}
      },
      "source": [
        "%cd /gdrive/'My Drive'/"
      ],
      "execution_count": 0,
      "outputs": []
    },
    {
      "cell_type": "code",
      "metadata": {
        "id": "_rkyhq1xQA9z",
        "colab_type": "code",
        "colab": {}
      },
      "source": [
        "# Download a library including LIME implementation (Only need to do it for the first time)\n",
        "# !git clone https://github.com/aildnont/covid-cxr.git"
      ],
      "execution_count": 0,
      "outputs": []
    },
    {
      "cell_type": "code",
      "metadata": {
        "id": "u3RaD9pPqkEs",
        "colab_type": "code",
        "colab": {}
      },
      "source": [
        "%cd covid-cxr/"
      ],
      "execution_count": 0,
      "outputs": []
    },
    {
      "cell_type": "code",
      "metadata": {
        "id": "RoV1uOXJJOUQ",
        "colab_type": "code",
        "colab": {}
      },
      "source": [
        "# Download a library including SHAP implementation (Only need to do it for the first time)\n",
        "# %cd src/\n",
        "# !git clone https://github.com/slundberg/shap.git\n",
        "# %cd .."
      ],
      "execution_count": 0,
      "outputs": []
    },
    {
      "cell_type": "code",
      "metadata": {
        "id": "xTKqD-EWOQFX",
        "colab_type": "code",
        "colab": {}
      },
      "source": [
        "# After executing the following instructions, one needs to restart runtime.\n",
        "!pip install -r requirements.txt\n",
        "!pip install shap"
      ],
      "execution_count": 0,
      "outputs": []
    },
    {
      "cell_type": "code",
      "metadata": {
        "id": "jodax1CkNC2m",
        "colab_type": "code",
        "colab": {}
      },
      "source": [
        "%cd data/"
      ],
      "execution_count": 0,
      "outputs": []
    },
    {
      "cell_type": "code",
      "metadata": {
        "id": "XPMbqeQVRcO3",
        "colab_type": "code",
        "colab": {}
      },
      "source": [
        "# Download COVID-19 datasets and unzip them if needed (Only need to do it for the first time)\n",
        "# !git clone https://github.com/ieee8023/covid-chestxray-dataset.git\n",
        "# !git clone https://github.com/agchung/Figure1-COVID-chestxray-dataset.git\n",
        "# !kaggle competitions download -c rsna-pneumonia-detection-challenge\n",
        "# !unzip rsna-pneumonia-detection-challenge.zip -d rsna/"
      ],
      "execution_count": 0,
      "outputs": []
    },
    {
      "cell_type": "code",
      "metadata": {
        "id": "MgQjAX6HzFTo",
        "colab_type": "code",
        "colab": {}
      },
      "source": [
        "# Create ramdisks for directories containing corresponding COVID-19 datasets\n",
        "!mount -t tmpfs -o size=500m tmpfs covid-chestxray-dataset/\n",
        "!mount | tail -n 1\n",
        "\n",
        "!mount -t tmpfs -o size=50m tmpfs Figure1-COVID-chestxray-dataset/\n",
        "!mount | tail -n 1\n",
        "\n",
        "!mount -t tmpfs -o size=4450m tmpfs rsna/\n",
        "!mount | tail -n 1"
      ],
      "execution_count": 0,
      "outputs": []
    },
    {
      "cell_type": "code",
      "metadata": {
        "id": "1G2HLuxtIObE",
        "colab_type": "code",
        "colab": {}
      },
      "source": [
        "# Download COVID-19 datasets and unzip them if needed in ramdisks\n",
        "%cd covid-chestxray-dataset/\n",
        "!git clone https://github.com/ieee8023/covid-chestxray-dataset.git .\n",
        "%cd ..\n",
        "\n",
        "%cd Figure1-COVID-chestxray-dataset/\n",
        "!git clone https://github.com/agchung/Figure1-COVID-chestxray-dataset.git .\n",
        "%cd ..\n",
        "\n",
        "!unzip rsna-pneumonia-detection-challenge.zip -d rsna/\n",
        "%cd .."
      ],
      "execution_count": 0,
      "outputs": []
    },
    {
      "cell_type": "code",
      "metadata": {
        "id": "_mhsGl6OUzWP",
        "colab_type": "code",
        "colab": {}
      },
      "source": [
        "# Create Pandas DataFrames of filenames and labels and three corresponding files (train_set.csv, val_set.csv and test_set.csv)\n",
        "!python src/data/preprocess.py"
      ],
      "execution_count": 0,
      "outputs": []
    },
    {
      "cell_type": "code",
      "metadata": {
        "id": "1_Z-UPvwTw4z",
        "colab_type": "code",
        "colab": {}
      },
      "source": [
        "import os\n",
        "os.environ['LD_LIBRARY_PATH'] += ':/usr/local/cuda-10.0/extras/CUPTI/lib64/'\n",
        "!echo $LD_LIBRARY_PATH"
      ],
      "execution_count": 0,
      "outputs": []
    },
    {
      "cell_type": "code",
      "metadata": {
        "id": "IOnnLxNZYCqn",
        "colab_type": "code",
        "colab": {}
      },
      "source": [
        "# Traning model resnet101v2 for binary and multi-class classifiers\n",
        "!python src/train.py"
      ],
      "execution_count": 0,
      "outputs": []
    },
    {
      "cell_type": "code",
      "metadata": {
        "id": "KRnWCK0LZt4n",
        "colab_type": "code",
        "colab": {}
      },
      "source": [
        "# Applying LIME on the test set to produce binary and multi-class classifiers' results\n",
        "# To switch classifiers, one needs to modify config.yml and executes \"!python src/data/preprocess.py\" accordingly.\n",
        "!python src/lime_explain.py"
      ],
      "execution_count": 0,
      "outputs": []
    },
    {
      "cell_type": "code",
      "metadata": {
        "id": "XkfVS_uyM_s-",
        "colab_type": "code",
        "colab": {}
      },
      "source": [
        "%load_ext tensorboard"
      ],
      "execution_count": 0,
      "outputs": []
    },
    {
      "cell_type": "code",
      "metadata": {
        "id": "r1ZDa2eN0Xye",
        "colab_type": "code",
        "colab": {}
      },
      "source": [
        "# Applying tensorboard to print results for training and validation\n",
        "%tensorboard --logdir=results/logs/training/"
      ],
      "execution_count": 0,
      "outputs": []
    },
    {
      "cell_type": "code",
      "metadata": {
        "id": "1JWgLDY1RHQa",
        "colab_type": "code",
        "colab": {}
      },
      "source": [
        "# Kill tensorboard process\n",
        "!kill $(ps | awk '{if ($4 == \"tensorboard\") {print $1}}')"
      ],
      "execution_count": 0,
      "outputs": []
    },
    {
      "cell_type": "code",
      "metadata": {
        "id": "xz604hVbmIB6",
        "colab_type": "code",
        "colab": {}
      },
      "source": [
        "# Applying SHAP on the test set to produce binary and multi-class classifiers' results\n",
        "# To switch classifiers, one needs to modify config.yml and executes \"!python src/data/preprocess.py\" accordingly.\n",
        "import multiprocessing\n",
        "from src import shap_explain\n",
        "p = multiprocessing.Process(target=shap_explain.main)\n",
        "p.start()\n",
        "p.join()"
      ],
      "execution_count": 0,
      "outputs": []
    }
  ]
}